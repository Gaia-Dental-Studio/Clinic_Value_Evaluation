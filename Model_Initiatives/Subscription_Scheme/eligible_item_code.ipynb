{
 "cells": [
  {
   "cell_type": "code",
   "execution_count": 19,
   "metadata": {},
   "outputs": [],
   "source": [
    "import pandas as pd \n",
    "import numpy as np\n",
    "import ast"
   ]
  },
  {
   "cell_type": "code",
   "execution_count": 4,
   "metadata": {},
   "outputs": [
    {
     "data": {
      "text/html": [
       "<div>\n",
       "<style scoped>\n",
       "    .dataframe tbody tr th:only-of-type {\n",
       "        vertical-align: middle;\n",
       "    }\n",
       "\n",
       "    .dataframe tbody tr th {\n",
       "        vertical-align: top;\n",
       "    }\n",
       "\n",
       "    .dataframe thead th {\n",
       "        text-align: right;\n",
       "    }\n",
       "</style>\n",
       "<table border=\"1\" class=\"dataframe\">\n",
       "  <thead>\n",
       "    <tr style=\"text-align: right;\">\n",
       "      <th></th>\n",
       "      <th>No</th>\n",
       "      <th>Treatment</th>\n",
       "      <th>item number list</th>\n",
       "      <th>cleaned_item_numbers</th>\n",
       "    </tr>\n",
       "  </thead>\n",
       "  <tbody>\n",
       "    <tr>\n",
       "      <th>0</th>\n",
       "      <td>1</td>\n",
       "      <td>Consultation</td>\n",
       "      <td>015</td>\n",
       "      <td>['015']</td>\n",
       "    </tr>\n",
       "    <tr>\n",
       "      <th>1</th>\n",
       "      <td>2</td>\n",
       "      <td>Consultation and TP presentation</td>\n",
       "      <td>015/018</td>\n",
       "      <td>['015', '018']</td>\n",
       "    </tr>\n",
       "    <tr>\n",
       "      <th>2</th>\n",
       "      <td>3</td>\n",
       "      <td>Treatment Planning</td>\n",
       "      <td>037.072.073.221.011</td>\n",
       "      <td>['037', '072', '073', '221', '011']</td>\n",
       "    </tr>\n",
       "    <tr>\n",
       "      <th>3</th>\n",
       "      <td>4</td>\n",
       "      <td>Quick clean - scalling</td>\n",
       "      <td>114</td>\n",
       "      <td>['114']</td>\n",
       "    </tr>\n",
       "    <tr>\n",
       "      <th>4</th>\n",
       "      <td>5</td>\n",
       "      <td>Routine Clean - dental checkup</td>\n",
       "      <td>013.114.121.141</td>\n",
       "      <td>['013', '114', '121', '141']</td>\n",
       "    </tr>\n",
       "    <tr>\n",
       "      <th>...</th>\n",
       "      <td>...</td>\n",
       "      <td>...</td>\n",
       "      <td>...</td>\n",
       "      <td>...</td>\n",
       "    </tr>\n",
       "    <tr>\n",
       "      <th>117</th>\n",
       "      <td>118</td>\n",
       "      <td>Provisional crown – per tooth</td>\n",
       "      <td>631</td>\n",
       "      <td>['631']</td>\n",
       "    </tr>\n",
       "    <tr>\n",
       "      <th>118</th>\n",
       "      <td>119</td>\n",
       "      <td>Repair of crown, bridge or splint - indirect</td>\n",
       "      <td>658</td>\n",
       "      <td>['658']</td>\n",
       "    </tr>\n",
       "    <tr>\n",
       "      <th>119</th>\n",
       "      <td>120</td>\n",
       "      <td>Repair of crown, bridge or splint – direct</td>\n",
       "      <td>659</td>\n",
       "      <td>['659']</td>\n",
       "    </tr>\n",
       "    <tr>\n",
       "      <th>120</th>\n",
       "      <td>121</td>\n",
       "      <td>Monit 1</td>\n",
       "      <td>14.115.72.73.141.73</td>\n",
       "      <td>['014', '115', '072', '073', '141', '073']</td>\n",
       "    </tr>\n",
       "    <tr>\n",
       "      <th>121</th>\n",
       "      <td>122</td>\n",
       "      <td>Post-Aligner</td>\n",
       "      <td>Post Aligner (845/845/071/071/871)</td>\n",
       "      <td>['845', '845', '071', '071', '871']</td>\n",
       "    </tr>\n",
       "  </tbody>\n",
       "</table>\n",
       "<p>122 rows × 4 columns</p>\n",
       "</div>"
      ],
      "text/plain": [
       "      No                                     Treatment  \\\n",
       "0      1                                  Consultation   \n",
       "1      2              Consultation and TP presentation   \n",
       "2      3                            Treatment Planning   \n",
       "3      4                        Quick clean - scalling   \n",
       "4      5                Routine Clean - dental checkup   \n",
       "..   ...                                           ...   \n",
       "117  118                 Provisional crown – per tooth   \n",
       "118  119  Repair of crown, bridge or splint - indirect   \n",
       "119  120    Repair of crown, bridge or splint – direct   \n",
       "120  121                                       Monit 1   \n",
       "121  122                                  Post-Aligner   \n",
       "\n",
       "                       item number list  \\\n",
       "0                                   015   \n",
       "1                               015/018   \n",
       "2                   037.072.073.221.011   \n",
       "3                                   114   \n",
       "4                       013.114.121.141   \n",
       "..                                  ...   \n",
       "117                                 631   \n",
       "118                                 658   \n",
       "119                                 659   \n",
       "120                 14.115.72.73.141.73   \n",
       "121  Post Aligner (845/845/071/071/871)   \n",
       "\n",
       "                           cleaned_item_numbers  \n",
       "0                                       ['015']  \n",
       "1                                ['015', '018']  \n",
       "2           ['037', '072', '073', '221', '011']  \n",
       "3                                       ['114']  \n",
       "4                  ['013', '114', '121', '141']  \n",
       "..                                          ...  \n",
       "117                                     ['631']  \n",
       "118                                     ['658']  \n",
       "119                                     ['659']  \n",
       "120  ['014', '115', '072', '073', '141', '073']  \n",
       "121         ['845', '845', '071', '071', '871']  \n",
       "\n",
       "[122 rows x 4 columns]"
      ]
     },
     "execution_count": 4,
     "metadata": {},
     "output_type": "execute_result"
    }
   ],
   "source": [
    "treatment_data = pd.read_csv('cleaned_treatment.csv')\n",
    "# treatment_data = treatment_data.drop(columns=['Unnamed: 0'])\n",
    "treatment_data"
   ]
  },
  {
   "cell_type": "code",
   "execution_count": 20,
   "metadata": {},
   "outputs": [],
   "source": [
    "eligible_treatment = [1, 2, 5, 9, 10]\n",
    "\n",
    "treatment_data = treatment_data[treatment_data['No'].isin(eligible_treatment)]\n",
    "treatment_data.dtypes\n",
    "\n",
    "treatment_data['cleaned_item_numbers'] = treatment_data['cleaned_item_numbers'].apply(lambda x: [int(item) for item in ast.literal_eval(x)])"
   ]
  },
  {
   "cell_type": "code",
   "execution_count": 21,
   "metadata": {},
   "outputs": [
    {
     "name": "stdout",
     "output_type": "stream",
     "text": [
      "15\n",
      "15\n",
      "18\n",
      "13\n",
      "114\n",
      "121\n",
      "141\n",
      "22\n",
      "22\n",
      "22\n",
      "22\n",
      "521\n",
      "941\n"
     ]
    }
   ],
   "source": [
    "for a in treatment_data['cleaned_item_numbers'].to_list():\n",
    "    for item in a:\n",
    "        print(item)"
   ]
  },
  {
   "cell_type": "code",
   "execution_count": 25,
   "metadata": {},
   "outputs": [
    {
     "data": {
      "text/plain": [
       "[15, 15, 18, 13, 114, 121, 141, 22, 22, 22, 22, 521, 941]"
      ]
     },
     "execution_count": 25,
     "metadata": {},
     "output_type": "execute_result"
    }
   ],
   "source": [
    "# set the list of column cleaned_item_numbers \n",
    "\n",
    "list_eligible_item_code = [item for sublist in treatment_data['cleaned_item_numbers'] for item in sublist]\n",
    "list_eligible_item_code"
   ]
  },
  {
   "cell_type": "code",
   "execution_count": 26,
   "metadata": {},
   "outputs": [
    {
     "data": {
      "text/plain": [
       "[15, 18, 13, 114, 121, 141, 22, 521, 941]"
      ]
     },
     "execution_count": 26,
     "metadata": {},
     "output_type": "execute_result"
    }
   ],
   "source": [
    "# delete duplicates in list_eligible_item_code\n",
    "list_eligible_item_code = list(dict.fromkeys(list_eligible_item_code))\n",
    "list_eligible_item_code"
   ]
  },
  {
   "cell_type": "code",
   "execution_count": null,
   "metadata": {},
   "outputs": [],
   "source": []
  }
 ],
 "metadata": {
  "kernelspec": {
   "display_name": "base",
   "language": "python",
   "name": "python3"
  },
  "language_info": {
   "codemirror_mode": {
    "name": "ipython",
    "version": 3
   },
   "file_extension": ".py",
   "mimetype": "text/x-python",
   "name": "python",
   "nbconvert_exporter": "python",
   "pygments_lexer": "ipython3",
   "version": "3.10.9"
  }
 },
 "nbformat": 4,
 "nbformat_minor": 2
}

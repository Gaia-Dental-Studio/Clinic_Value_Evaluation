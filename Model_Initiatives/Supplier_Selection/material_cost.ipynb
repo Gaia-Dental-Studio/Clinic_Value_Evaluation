{
 "cells": [
  {
   "cell_type": "code",
   "execution_count": 1,
   "metadata": {},
   "outputs": [],
   "source": [
    "import numpy as np \n",
    "import pandas as pd"
   ]
  },
  {
   "cell_type": "code",
   "execution_count": 2,
   "metadata": {},
   "outputs": [],
   "source": [
    "material_banks = []\n",
    "supplier_banks = []\n",
    "\n",
    "for i in range(6): # default is 30\n",
    "    material_banks.append(f\"Material {i+1}\")\n",
    "    \n",
    "for i in range(6): # default is 30\n",
    "    supplier_banks.append(f\"Supplier {i+1}\")\n",
    "\n"
   ]
  },
  {
   "cell_type": "code",
   "execution_count": 3,
   "metadata": {},
   "outputs": [],
   "source": [
    "cleaned_item_code = pd.read_csv('cleaned_item_code.csv')\n",
    "\n",
    "item_code_banks = cleaned_item_code['item_number'].tolist()"
   ]
  },
  {
   "cell_type": "code",
   "execution_count": 4,
   "metadata": {},
   "outputs": [],
   "source": [
    "# random uniform distribution\n",
    "\n",
    "mean_price = []\n",
    "\n",
    "for i in range(6): # default is 30\n",
    "    mean_price.append(np.round(np.random.exponential(1),2))\n",
    "    \n",
    "\n",
    "# Standard deviation is 25% of the average price\n",
    "std_devs = [avg_price * 0.25 for avg_price in mean_price]\n",
    "\n"
   ]
  },
  {
   "cell_type": "code",
   "execution_count": 5,
   "metadata": {},
   "outputs": [],
   "source": [
    "# Generate the price matrix\n",
    "price_data = {}\n",
    "\n",
    "for supplier in supplier_banks:\n",
    "    # Generate random prices for each material, ensuring no negative values (select 0.5 if selected)\n",
    "    random_prices = [max(0.5, np.random.normal(avg, std)) for avg, std in zip(mean_price, std_devs)]\n",
    "    price_data[supplier] = np.round(random_prices,2)\n",
    "\n",
    "# Create a DataFrame\n",
    "price_matrix = pd.DataFrame(price_data, index=material_banks)"
   ]
  },
  {
   "cell_type": "code",
   "execution_count": 6,
   "metadata": {},
   "outputs": [],
   "source": [
    "price_matrix.to_csv('price_matrix_single_clinic.csv')"
   ]
  },
  {
   "cell_type": "code",
   "execution_count": null,
   "metadata": {},
   "outputs": [],
   "source": []
  },
  {
   "cell_type": "code",
   "execution_count": null,
   "metadata": {},
   "outputs": [],
   "source": []
  }
 ],
 "metadata": {
  "kernelspec": {
   "display_name": "base",
   "language": "python",
   "name": "python3"
  },
  "language_info": {
   "codemirror_mode": {
    "name": "ipython",
    "version": 3
   },
   "file_extension": ".py",
   "mimetype": "text/x-python",
   "name": "python",
   "nbconvert_exporter": "python",
   "pygments_lexer": "ipython3",
   "version": "3.10.9"
  }
 },
 "nbformat": 4,
 "nbformat_minor": 2
}
